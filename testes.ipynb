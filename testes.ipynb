{
 "cells": [
  {
   "cell_type": "code",
   "execution_count": 6,
   "metadata": {},
   "outputs": [
    {
     "name": "stdout",
     "output_type": "stream",
     "text": [
      "Euclidean Distance: 1.1100000003523292\n"
     ]
    },
    {
     "data": {
      "text/plain": [
       "1.0430600670878603"
      ]
     },
     "execution_count": 6,
     "metadata": {},
     "output_type": "execute_result"
    }
   ],
   "source": [
    "from math import radians, sin, cos, sqrt, atan2\n",
    "import numpy as np\n",
    "\n",
    "def euclidean_distance(points1, points2):\n",
    "    return np.linalg.norm(points1 - points2)\n",
    "\n",
    "def haversine_distance(lat1, lon1, lat2, lon2):\n",
    "    \"\"\"\n",
    "    Calcular distância precisa entre dois pontos geográficos\n",
    "    \"\"\"\n",
    "    R = 6371000  # Raio da Terra em metros\n",
    "    \n",
    "    # Converter para radianos\n",
    "    lat1, lon1, lat2, lon2 = map(radians, [lat1, lon1, lat2, lon2])\n",
    "    \n",
    "    # Diferenças\n",
    "    dlat = lat2 - lat1\n",
    "    dlon = lon2 - lon1\n",
    "    \n",
    "    # Fórmula de Haversine\n",
    "    a = sin(dlat/2)**2 + cos(lat1) * cos(lat2) * sin(dlon/2)**2\n",
    "    c = 2 * atan2(sqrt(a), sqrt(1-a))\n",
    "    \n",
    "    return R * c\n",
    "\n",
    "\n",
    "\n",
    "lat1 = -20.27397\n",
    "lon1 = -43.9878\n",
    "\n",
    "lat2 = -20.27397\n",
    "lon2 = -43.98779\n",
    "\n",
    "points1 = np.array([lat1,lon1])\n",
    "    \n",
    "points2 = np.array([lat2,lon2])\n",
    "    \n",
    "distance = euclidean_distance(points1, points2) * 111000 \n",
    "print(f\"Euclidean Distance: {distance}\") \n",
    "        \n",
    "\n",
    "\n",
    "\n",
    "haversine_distance(lat1, lon1, lat2, lon2)"
   ]
  },
  {
   "cell_type": "code",
   "execution_count": null,
   "metadata": {},
   "outputs": [
    {
     "name": "stdout",
     "output_type": "stream",
     "text": [
      "Arquivo GPX salvo como arquivo.gpx.\n"
     ]
    }
   ],
   "source": [
    "def download_gpx_from_strava(link):\n",
    "    \"\"\"Baixa um arquivo GPX do Strava, dado o link da atividade.\"\"\"\n",
    "    try:\n",
    "        export_link = f\"{link}/export_gpx\"\n",
    "        response = requests.get(export_link)\n",
    "        response.raise_for_status()  # Verifica se houve erro na requisição\n",
    "        \n",
    "        temp_file = tempfile.NamedTemporaryFile(delete=False, suffix=\".gpx\")\n",
    "        with open(temp_file.name, \"wb\") as f:\n",
    "            f.write(response.content)\n",
    "        \n",
    "        return temp_file.name\n",
    "    except requests.exceptions.RequestException as e:\n",
    "        st.error(f\"Erro ao baixar o arquivo GPX: {e}\")\n",
    "        return None\n",
    "    \n",
    "\n",
    "    "
   ]
  },
  {
   "cell_type": "code",
   "execution_count": 12,
   "metadata": {},
   "outputs": [
    {
     "name": "stdout",
     "output_type": "stream",
     "text": [
      "https://strava.app.link/BwJmBHq43Ob\n",
      "Link atualizado: https://strava.app.link/BwJmBHq43Ob\n"
     ]
    }
   ],
   "source": [
    "import httpx\n",
    "\n",
    "def get_updated_strava_link(short_link):\n",
    "    try:\n",
    "        # Faz a requisição ao link curto e segue os redirecionamentos\n",
    "        with httpx.Client(follow_redirects=True) as client:\n",
    "            response = client.get(short_link)\n",
    "            if response.status_code == 200:\n",
    "                # Retorna a URL final (após redirecionamentos)\n",
    "                print(response.url)\n",
    "                return response.url\n",
    "            else:\n",
    "                print(f\"Erro: {response.status_code}\")\n",
    "                return None\n",
    "    except Exception as e:\n",
    "        print(f\"Erro ao processar o link: {e}\")\n",
    "        return None\n",
    "\n",
    "# Teste com o link do Strava\n",
    "short_link = \"https://strava.app.link/BwJmBHq43Ob\"\n",
    "updated_link = get_updated_strava_link(short_link)\n",
    "print(f\"Link atualizado: {updated_link}\")\n"
   ]
  }
 ],
 "metadata": {
  "kernelspec": {
   "display_name": "boti",
   "language": "python",
   "name": "python3"
  },
  "language_info": {
   "codemirror_mode": {
    "name": "ipython",
    "version": 3
   },
   "file_extension": ".py",
   "mimetype": "text/x-python",
   "name": "python",
   "nbconvert_exporter": "python",
   "pygments_lexer": "ipython3",
   "version": "3.9.16"
  }
 },
 "nbformat": 4,
 "nbformat_minor": 2
}
